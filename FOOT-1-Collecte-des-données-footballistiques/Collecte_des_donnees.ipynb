{
 "cells": [
  {
   "cell_type": "markdown",
   "id": "69d2b77a",
   "metadata": {},
   "source": [
    "# Collecte des données footballistiques"
   ]
  },
  {
   "cell_type": "markdown",
   "id": "330ffd4d",
   "metadata": {},
   "source": [
    "### Configuration de Selenium et Lancement du Site Web"
   ]
  },
  {
   "cell_type": "code",
   "execution_count": 51,
   "id": "fd1d4590",
   "metadata": {},
   "outputs": [],
   "source": [
    "from selenium import webdriver\n",
    "from selenium.webdriver.chrome.service import Service\n",
    "from selenium.webdriver.common.by import By\n",
    "from selenium.webdriver.support.ui import WebDriverWait\n",
    "from selenium.webdriver.support import expected_conditions as EC\n",
    "from bs4 import BeautifulSoup\n",
    "\n",
    "website = \"https://fbref.com/en/comps/9/2024-2025/2024-2025-Premier-League-Stats\"\n",
    "path = \"../chromedriver-win32/chromedriver.exe\"\n",
    "service = Service(path)\n",
    "driver = webdriver.Chrome(service=service)\n",
    "\n",
    "driver.get(website) \n",
    "\n"
   ]
  },
  {
   "cell_type": "markdown",
   "id": "cc20e67a",
   "metadata": {},
   "source": [
    "### Extraction des Équipes et de leurs Liens depuis la Page Web"
   ]
  },
  {
   "cell_type": "code",
   "execution_count": 52,
   "id": "5b83a306",
   "metadata": {},
   "outputs": [
    {
     "name": "stdout",
     "output_type": "stream",
     "text": [
      "[('Liverpool', 'https://fbref.com/en/squads/822bd0ba/2024-2025/Liverpool-Stats'), ('Arsenal', 'https://fbref.com/en/squads/18bb7c10/2024-2025/Arsenal-Stats'), ('Manchester City', 'https://fbref.com/en/squads/b8fd03ef/2024-2025/Manchester-City-Stats'), ('Chelsea', 'https://fbref.com/en/squads/cff3d9bb/2024-2025/Chelsea-Stats'), ('Newcastle Utd', 'https://fbref.com/en/squads/b2b47a98/2024-2025/Newcastle-United-Stats'), ('Aston Villa', 'https://fbref.com/en/squads/8602292d/2024-2025/Aston-Villa-Stats'), (\"Nott'ham Forest\", 'https://fbref.com/en/squads/e4a775cb/2024-2025/Nottingham-Forest-Stats'), ('Brighton', 'https://fbref.com/en/squads/d07537b9/2024-2025/Brighton-and-Hove-Albion-Stats'), ('Bournemouth', 'https://fbref.com/en/squads/4ba7cbea/2024-2025/Bournemouth-Stats'), ('Brentford', 'https://fbref.com/en/squads/cd051869/2024-2025/Brentford-Stats'), ('Fulham', 'https://fbref.com/en/squads/fd962109/2024-2025/Fulham-Stats'), ('Crystal Palace', 'https://fbref.com/en/squads/47c64c55/2024-2025/Crystal-Palace-Stats'), ('Everton', 'https://fbref.com/en/squads/d3fd31cc/2024-2025/Everton-Stats'), ('West Ham', 'https://fbref.com/en/squads/7c21e445/2024-2025/West-Ham-United-Stats'), ('Manchester Utd', 'https://fbref.com/en/squads/19538871/2024-2025/Manchester-United-Stats'), ('Wolves', 'https://fbref.com/en/squads/8cec06e1/2024-2025/Wolverhampton-Wanderers-Stats'), ('Tottenham', 'https://fbref.com/en/squads/361ca564/2024-2025/Tottenham-Hotspur-Stats'), ('Leicester City', 'https://fbref.com/en/squads/a2d435b3/2024-2025/Leicester-City-Stats'), ('Ipswich Town', 'https://fbref.com/en/squads/b74092de/2024-2025/Ipswich-Town-Stats'), ('Southampton', 'https://fbref.com/en/squads/33c895d4/2024-2025/Southampton-Stats')]\n"
     ]
    }
   ],
   "source": [
    "team_data = []\n",
    "team_elements = driver.find_elements(By.CSS_SELECTOR,'td[data-stat=\"team\"] > a')\n",
    "seen = set()\n",
    "\n",
    "for t in team_elements:\n",
    "    name = t.text.strip()\n",
    "    href = t.get_attribute('href')\n",
    "    \n",
    "    if name and name not in seen:\n",
    "        team_data.append((name, href))\n",
    "        seen.add(name)\n",
    "\n",
    "print(team_data)"
   ]
  }
 ],
 "metadata": {
  "kernelspec": {
   "display_name": "Python 3",
   "language": "python",
   "name": "python3"
  },
  "language_info": {
   "codemirror_mode": {
    "name": "ipython",
    "version": 3
   },
   "file_extension": ".py",
   "mimetype": "text/x-python",
   "name": "python",
   "nbconvert_exporter": "python",
   "pygments_lexer": "ipython3",
   "version": "3.11.0"
  }
 },
 "nbformat": 4,
 "nbformat_minor": 5
}
