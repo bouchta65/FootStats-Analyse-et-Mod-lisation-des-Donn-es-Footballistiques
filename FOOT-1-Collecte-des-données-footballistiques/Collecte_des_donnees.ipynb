{
 "cells": [
  {
   "cell_type": "markdown",
   "id": "69d2b77a",
   "metadata": {},
   "source": [
    "# Collecte des données footballistiques"
   ]
  },
  {
   "cell_type": "markdown",
   "id": "330ffd4d",
   "metadata": {},
   "source": [
    "### Configuration de Selenium et Lancement du Site Web"
   ]
  },
  {
   "cell_type": "code",
   "execution_count": 51,
   "id": "fd1d4590",
   "metadata": {},
   "outputs": [],
   "source": [
    "from selenium import webdriver\n",
    "from selenium.webdriver.chrome.service import Service\n",
    "from selenium.webdriver.common.by import By\n",
    "from selenium.webdriver.support.ui import WebDriverWait\n",
    "from selenium.webdriver.support import expected_conditions as EC\n",
    "from bs4 import BeautifulSoup\n",
    "\n",
    "website = \"https://fbref.com/en/comps/9/2024-2025/2024-2025-Premier-League-Stats\"\n",
    "path = \"../chromedriver-win32/chromedriver.exe\"\n",
    "service = Service(path)\n",
    "driver = webdriver.Chrome(service=service)\n",
    "\n",
    "driver.get(website) \n",
    "\n"
   ]
  }
 ],
 "metadata": {
  "kernelspec": {
   "display_name": "Python 3",
   "language": "python",
   "name": "python3"
  },
  "language_info": {
   "codemirror_mode": {
    "name": "ipython",
    "version": 3
   },
   "file_extension": ".py",
   "mimetype": "text/x-python",
   "name": "python",
   "nbconvert_exporter": "python",
   "pygments_lexer": "ipython3",
   "version": "3.11.0"
  }
 },
 "nbformat": 4,
 "nbformat_minor": 5
}
