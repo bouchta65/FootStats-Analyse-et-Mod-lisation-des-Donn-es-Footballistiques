{
 "cells": [
  {
   "cell_type": "markdown",
   "id": "69d2b77a",
   "metadata": {},
   "source": [
    "# Collecte des données footballistiques"
   ]
  },
  {
   "cell_type": "markdown",
   "id": "330ffd4d",
   "metadata": {},
   "source": [
    "### Configuration de Selenium et Lancement du Site Web"
   ]
  },
  {
   "cell_type": "code",
   "execution_count": 51,
   "id": "fd1d4590",
   "metadata": {},
   "outputs": [],
   "source": [
    "from selenium import webdriver\n",
    "from selenium.webdriver.chrome.service import Service\n",
    "from selenium.webdriver.common.by import By\n",
    "from selenium.webdriver.support.ui import WebDriverWait\n",
    "from selenium.webdriver.support import expected_conditions as EC\n",
    "from bs4 import BeautifulSoup\n",
    "\n",
    "website = \"https://fbref.com/en/comps/9/2024-2025/2024-2025-Premier-League-Stats\"\n",
    "path = \"../chromedriver-win32/chromedriver.exe\"\n",
    "service = Service(path)\n",
    "driver = webdriver.Chrome(service=service)\n",
    "\n",
    "driver.get(website) \n",
    "\n"
   ]
  },
  {
   "cell_type": "markdown",
   "id": "cc20e67a",
   "metadata": {},
   "source": [
    "### Extraction des Équipes et de leurs Liens depuis la Page Web"
   ]
  },
  {
   "cell_type": "code",
   "execution_count": 52,
   "id": "5b83a306",
   "metadata": {},
   "outputs": [
    {
     "name": "stdout",
     "output_type": "stream",
     "text": [
      "[('Liverpool', 'https://fbref.com/en/squads/822bd0ba/2024-2025/Liverpool-Stats'), ('Arsenal', 'https://fbref.com/en/squads/18bb7c10/2024-2025/Arsenal-Stats'), ('Manchester City', 'https://fbref.com/en/squads/b8fd03ef/2024-2025/Manchester-City-Stats'), ('Chelsea', 'https://fbref.com/en/squads/cff3d9bb/2024-2025/Chelsea-Stats'), ('Newcastle Utd', 'https://fbref.com/en/squads/b2b47a98/2024-2025/Newcastle-United-Stats'), ('Aston Villa', 'https://fbref.com/en/squads/8602292d/2024-2025/Aston-Villa-Stats'), (\"Nott'ham Forest\", 'https://fbref.com/en/squads/e4a775cb/2024-2025/Nottingham-Forest-Stats'), ('Brighton', 'https://fbref.com/en/squads/d07537b9/2024-2025/Brighton-and-Hove-Albion-Stats'), ('Bournemouth', 'https://fbref.com/en/squads/4ba7cbea/2024-2025/Bournemouth-Stats'), ('Brentford', 'https://fbref.com/en/squads/cd051869/2024-2025/Brentford-Stats'), ('Fulham', 'https://fbref.com/en/squads/fd962109/2024-2025/Fulham-Stats'), ('Crystal Palace', 'https://fbref.com/en/squads/47c64c55/2024-2025/Crystal-Palace-Stats'), ('Everton', 'https://fbref.com/en/squads/d3fd31cc/2024-2025/Everton-Stats'), ('West Ham', 'https://fbref.com/en/squads/7c21e445/2024-2025/West-Ham-United-Stats'), ('Manchester Utd', 'https://fbref.com/en/squads/19538871/2024-2025/Manchester-United-Stats'), ('Wolves', 'https://fbref.com/en/squads/8cec06e1/2024-2025/Wolverhampton-Wanderers-Stats'), ('Tottenham', 'https://fbref.com/en/squads/361ca564/2024-2025/Tottenham-Hotspur-Stats'), ('Leicester City', 'https://fbref.com/en/squads/a2d435b3/2024-2025/Leicester-City-Stats'), ('Ipswich Town', 'https://fbref.com/en/squads/b74092de/2024-2025/Ipswich-Town-Stats'), ('Southampton', 'https://fbref.com/en/squads/33c895d4/2024-2025/Southampton-Stats')]\n"
     ]
    }
   ],
   "source": [
    "team_data = []\n",
    "team_elements = driver.find_elements(By.CSS_SELECTOR,'td[data-stat=\"team\"] > a')\n",
    "seen = set()\n",
    "\n",
    "for t in team_elements:\n",
    "    name = t.text.strip()\n",
    "    href = t.get_attribute('href')\n",
    "    \n",
    "    if name and name not in seen:\n",
    "        team_data.append((name, href))\n",
    "        seen.add(name)\n",
    "\n",
    "print(team_data)"
   ]
  },
  {
   "cell_type": "code",
   "execution_count": 53,
   "id": "a1fd846b",
   "metadata": {},
   "outputs": [
    {
     "name": "stdout",
     "output_type": "stream",
     "text": [
      "('Liverpool', 'https://fbref.com/en/squads/822bd0ba/2024-2025/Liverpool-Stats')\n",
      "('Arsenal', 'https://fbref.com/en/squads/18bb7c10/2024-2025/Arsenal-Stats')\n",
      "('Manchester City', 'https://fbref.com/en/squads/b8fd03ef/2024-2025/Manchester-City-Stats')\n",
      "('Chelsea', 'https://fbref.com/en/squads/cff3d9bb/2024-2025/Chelsea-Stats')\n",
      "('Newcastle Utd', 'https://fbref.com/en/squads/b2b47a98/2024-2025/Newcastle-United-Stats')\n",
      "('Aston Villa', 'https://fbref.com/en/squads/8602292d/2024-2025/Aston-Villa-Stats')\n",
      "(\"Nott'ham Forest\", 'https://fbref.com/en/squads/e4a775cb/2024-2025/Nottingham-Forest-Stats')\n",
      "('Brighton', 'https://fbref.com/en/squads/d07537b9/2024-2025/Brighton-and-Hove-Albion-Stats')\n",
      "('Bournemouth', 'https://fbref.com/en/squads/4ba7cbea/2024-2025/Bournemouth-Stats')\n",
      "('Brentford', 'https://fbref.com/en/squads/cd051869/2024-2025/Brentford-Stats')\n",
      "('Fulham', 'https://fbref.com/en/squads/fd962109/2024-2025/Fulham-Stats')\n",
      "('Crystal Palace', 'https://fbref.com/en/squads/47c64c55/2024-2025/Crystal-Palace-Stats')\n",
      "('Everton', 'https://fbref.com/en/squads/d3fd31cc/2024-2025/Everton-Stats')\n",
      "('West Ham', 'https://fbref.com/en/squads/7c21e445/2024-2025/West-Ham-United-Stats')\n",
      "('Manchester Utd', 'https://fbref.com/en/squads/19538871/2024-2025/Manchester-United-Stats')\n",
      "('Wolves', 'https://fbref.com/en/squads/8cec06e1/2024-2025/Wolverhampton-Wanderers-Stats')\n",
      "('Tottenham', 'https://fbref.com/en/squads/361ca564/2024-2025/Tottenham-Hotspur-Stats')\n",
      "('Leicester City', 'https://fbref.com/en/squads/a2d435b3/2024-2025/Leicester-City-Stats')\n",
      "('Ipswich Town', 'https://fbref.com/en/squads/b74092de/2024-2025/Ipswich-Town-Stats')\n",
      "('Southampton', 'https://fbref.com/en/squads/33c895d4/2024-2025/Southampton-Stats')\n"
     ]
    }
   ],
   "source": [
    "for i in team_data:\n",
    "    print(i)"
   ]
  },
  {
   "cell_type": "markdown",
   "id": "f6848035",
   "metadata": {},
   "source": [
    "### Chargement des Pages Équipes et Gestion des Timeouts"
   ]
  },
  {
   "cell_type": "code",
   "execution_count": 54,
   "id": "59db96f8",
   "metadata": {},
   "outputs": [
    {
     "name": "stdout",
     "output_type": "stream",
     "text": [
      "Loading Liverpool...\n",
      "Loading Arsenal...\n",
      "Loading Manchester City...\n",
      "Loading Chelsea...\n",
      "Loading Newcastle Utd...\n",
      "Loading Aston Villa...\n",
      "Loading Nott'ham Forest...\n",
      "Loading Brighton...\n",
      "Loading Bournemouth...\n",
      "Loading Brentford...\n",
      "Loading Fulham...\n",
      "Loading Crystal Palace...\n",
      "Loading Everton...\n",
      "Loading West Ham...\n",
      "Loading Manchester Utd...\n",
      "Loading Wolves...\n",
      "Loading Tottenham...\n",
      "Loading Leicester City...\n",
      "Loading Ipswich Town...\n",
      "Loading Southampton...\n"
     ]
    }
   ],
   "source": [
    "from selenium.common.exceptions import TimeoutException\n",
    "\n",
    "for i in range(len(team_data)):\n",
    "    team, href = team_data[i]\n",
    "    print(f\"Loading {team}...\")\n",
    "    driver.get(href)\n",
    "    try:\n",
    "        WebDriverWait(driver, 5).until(\n",
    "            EC.presence_of_element_located((By.CSS_SELECTOR, \"table.stats_table\"))\n",
    "        )\n",
    "    except TimeoutException:\n",
    "        print(f\"Timeout loading {team}, skipping...\")\n",
    "        continue"
   ]
  },
  {
   "cell_type": "markdown",
   "id": "88305909",
   "metadata": {},
   "source": [
    "### Extraction des Données des Joueurs de Toutes les Équipes et Création du DataFrame"
   ]
  },
  {
   "cell_type": "code",
   "execution_count": 70,
   "id": "b8fa1462",
   "metadata": {},
   "outputs": [
    {
     "name": "stdout",
     "output_type": "stream",
     "text": [
      "Loading Liverpool...\n",
      "good\n",
      "Loading Arsenal...\n",
      "good\n",
      "Loading Manchester City...\n",
      "good\n",
      "Loading Chelsea...\n",
      "good\n",
      "Loading Newcastle Utd...\n",
      "good\n",
      "Loading Aston Villa...\n",
      "good\n",
      "Loading Nott'ham Forest...\n",
      "good\n",
      "Loading Brighton...\n",
      "good\n",
      "Loading Bournemouth...\n",
      "good\n",
      "Loading Brentford...\n",
      "good\n",
      "Loading Fulham...\n",
      "good\n",
      "Loading Crystal Palace...\n",
      "good\n",
      "Loading Everton...\n",
      "good\n",
      "Loading West Ham...\n",
      "good\n",
      "Loading Manchester Utd...\n",
      "good\n",
      "Loading Wolves...\n",
      "good\n",
      "Loading Tottenham...\n",
      "good\n",
      "Loading Leicester City...\n",
      "good\n",
      "Loading Ipswich Town...\n",
      "good\n",
      "Loading Southampton...\n",
      "good\n",
      "            Team                 Player   Nation Pos Age  MP Starts    Min  \\\n",
      "0      Liverpool          Mohamed Salah   eg EGY  FW  32  38     38  3,371   \n",
      "1      Liverpool        Virgil van Dijk   nl NED  DF  33  37     37  3,330   \n",
      "2      Liverpool       Ryan Gravenberch   nl NED  MF  22  37     37  3,160   \n",
      "3      Liverpool    Alexis Mac Allister   ar ARG  MF  25  35     30  2,599   \n",
      "4      Liverpool        Ibrahima Konaté   fr FRA  DF  25  31     30  2,560   \n",
      "..           ...                    ...      ...  ..  ..  ..    ...    ...   \n",
      "749  Southampton     Joachim Kayi Sanda   fr FRA  DF  17   2      0     14   \n",
      "750  Southampton         Ronnie Edwards  eng ENG  DF  21   1      0     12   \n",
      "751  Southampton         Carlos Alcaraz   ar ARG  MF  21   1      0     10   \n",
      "752  Southampton           Jayden Moore           DF       0      0          \n",
      "753  Southampton  Joe O'Brien-Whitmarsh   ie IRL  MF  19   0      0          \n",
      "\n",
      "      90s Gls Ast G+A G-PK PK PKatt CrdY CrdR    xG  \n",
      "0    37.5  29  18  47   20  9     9    1    0  25.2  \n",
      "1    37.0   3   1   4    3  0     0    5    0   2.2  \n",
      "2    35.1   0   4   4    0  0     0    6    1   1.1  \n",
      "3    28.9   5   5  10    5  0     0    6    0   2.8  \n",
      "4    28.4   1   2   3    1  0     0    5    0   1.7  \n",
      "..    ...  ..  ..  ..  ... ..   ...  ...  ...   ...  \n",
      "749   0.2   0   0   0    0  0     0    0    0   0.0  \n",
      "750   0.1   0   0   0    0  0     0    0    0   0.0  \n",
      "751   0.1   0   0   0    0  0     0    0    0   0.1  \n",
      "752                                                  \n",
      "753                                                  \n",
      "\n",
      "[754 rows x 18 columns]\n"
     ]
    }
   ],
   "source": [
    "import pandas as pd\n",
    "from selenium.common.exceptions import TimeoutException\n",
    "all_headers = []\n",
    "all_teams_data = []\n",
    "\n",
    "all_teams_players = []\n",
    "for i in range(len(team_data)):\n",
    "    team, href = team_data[i]\n",
    "    print(f\"Loading {team}...\")\n",
    "    driver.get(href)\n",
    "    try:\n",
    "        WebDriverWait(driver, 10).until(\n",
    "            EC.presence_of_element_located((By.ID, \"stats_standard_9\"))\n",
    "        )\n",
    "        table = driver.find_element(By.ID, 'stats_standard_9')\n",
    "        \n",
    "        column_headers = table.find_elements(By.CSS_SELECTOR, \"thead tr:nth-child(2) th\")\n",
    "        column_headers_text = [h.text for h in column_headers][:17]\n",
    "        \n",
    "\n",
    "        players_rows = table.find_elements(By.CSS_SELECTOR,\"tbody tr\")\n",
    "        player_data = []\n",
    "        for row in players_rows:\n",
    "            player_name = row.find_element(By.TAG_NAME, \"th\").text\n",
    "            cells = row.find_elements(By.TAG_NAME, \"td\")\n",
    "            row_data = [player_name]+[cell.text for cell in cells[:16]]\n",
    "            \n",
    "            player_data.append(row_data)\n",
    "            \n",
    "         \n",
    "        print(\"good\")\n",
    "        \n",
    "        team_df = pd.DataFrame(player_data, columns=column_headers_text)\n",
    "        team_df.insert(0, \"Team\", team)\n",
    "        all_teams_data.append(team_df)\n",
    "        \n",
    "    except TimeoutException:\n",
    "        print(f\"Timeout loading {team}, skipping...\")\n",
    "        continue\n",
    "    \n",
    "players_All = pd.concat(all_teams_data,ignore_index=True)\n",
    "print(players_All)"
   ]
  }
 ],
 "metadata": {
  "kernelspec": {
   "display_name": "Python 3",
   "language": "python",
   "name": "python3"
  },
  "language_info": {
   "codemirror_mode": {
    "name": "ipython",
    "version": 3
   },
   "file_extension": ".py",
   "mimetype": "text/x-python",
   "name": "python",
   "nbconvert_exporter": "python",
   "pygments_lexer": "ipython3",
   "version": "3.11.0"
  }
 },
 "nbformat": 4,
 "nbformat_minor": 5
}
